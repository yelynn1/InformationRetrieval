{
 "cells": [
  {
   "cell_type": "code",
   "execution_count": 7,
   "metadata": {
    "pycharm": {
     "is_executing": false
    }
   },
   "outputs": [],
   "source": [
    "import math"
   ]
  },
  {
   "cell_type": "code",
   "execution_count": 8,
   "metadata": {
    "pycharm": {
     "is_executing": false
    }
   },
   "outputs": [],
   "source": [
    "def no_of_skip(arr_list):\n",
    "    return math.ceil(math.sqrt(len(arr_list)))"
   ]
  },
  {
   "cell_type": "code",
   "execution_count": 9,
   "metadata": {
    "pycharm": {
     "is_executing": false
    }
   },
   "outputs": [],
   "source": [
    "def has_skip(arr_list, current_index):\n",
    "    if len(arr_list) > no_of_skip(arr_list) + current_index:\n",
    "        # print('has skip')\n",
    "        return True\n",
    "    else:\n",
    "        # print('dont have')\n",
    "        return False"
   ]
  },
  {
   "cell_type": "code",
   "execution_count": 10,
   "metadata": {
    "pycharm": {
     "is_executing": false
    }
   },
   "outputs": [],
   "source": [
    "def skip(arr_list, current_index):\n",
    "    if has_skip(arr_list, current_index):\n",
    "        index = no_of_skip(arr_list) + current_index\n",
    "        return index\n",
    "    else:\n",
    "        if (len(arr_list) - 1) == current_index:\n",
    "            return current_index;\n",
    "        else:\n",
    "            return current_index + 1"
   ]
  },
  {
   "cell_type": "code",
   "execution_count": 58,
   "metadata": {
    "pycharm": {
     "is_executing": false,
     "name": "#%%\n"
    }
   },
   "outputs": [],
   "source": [
    "def intersection_with_skips(first_posting_list, second_posting_list):\n",
    "    result = []\n",
    "    result_index = 0\n",
    "    index_a = 0\n",
    "    index_b = 0\n",
    "\n",
    "    a_length = len(first_posting_list)\n",
    "    b_length = len(second_posting_list)\n",
    "\n",
    "    print(\"len \", a_length)\n",
    "    try:\n",
    "        while index_a != a_length and index_b != b_length:\n",
    "            print('while loop', first_posting_list[index_a], ',', second_posting_list[index_b])\n",
    "            if first_posting_list[index_a] == second_posting_list[index_b]:\n",
    "                print(\"a=b\")\n",
    "                result.insert(result_index, first_posting_list[index_a])\n",
    "                result_index += 1\n",
    "                print(' r ', first_posting_list[index_a], result)\n",
    "                index_a += 1\n",
    "                index_b += 1\n",
    "            elif first_posting_list[index_a] < second_posting_list[index_b]:\n",
    "                print('a', index_a)\n",
    "                print(\"a<b \", first_posting_list[index_a], second_posting_list[index_b])\n",
    "                \n",
    "                while first_posting_list[skip(first_posting_list, index_a)] < second_posting_list[index_b] and index_a != a_length - 1 and index_b != b_length - 1:\n",
    "                    index_a = skip(first_posting_list, index_a)\n",
    "                    print('skip A pointer ', index_a, first_posting_list[index_a], second_posting_list[index_b])\n",
    "                if first_posting_list[skip(first_posting_list, index_a)] >= second_posting_list[index_b]:\n",
    "                    index_a += 1\n",
    "                    print('A normal increment pointer ', index_a, first_posting_list[index_a], second_posting_list[index_b])\n",
    "                else:\n",
    "                    if index_b == b_length-1 or index_a == a_length-1:\n",
    "                        if first_posting_list[index_a] < second_posting_list[b_length-1]:\n",
    "                            break\n",
    "                        index_a = skip(first_posting_list, index_a)\n",
    "\n",
    "            elif first_posting_list[index_a] > second_posting_list[index_b]:  # a>b\n",
    "                print(\"a>b\", first_posting_list[index_a], second_posting_list[index_b])\n",
    "                \n",
    "                while second_posting_list[skip(second_posting_list, index_b)] < first_posting_list[index_a] and index_a != a_length - 1 and index_b != b_length - 1:\n",
    "                    index_b = skip(second_posting_list, index_b)\n",
    "                    print('b skip pointer ', index_b, first_posting_list[index_a], second_posting_list[index_b])\n",
    "                print('a>b', second_posting_list[skip(second_posting_list, index_b)])\n",
    "                if second_posting_list[skip(second_posting_list, index_b)] >= first_posting_list[index_a]:\n",
    "                    index_b += 1\n",
    "                    print('b normal increment pointer ', index_b, first_posting_list[index_a], second_posting_list[index_b])\n",
    "                else:\n",
    "                    if index_a == a_length-1 or index_b == b_length-1:\n",
    "                        if first_posting_list[index_a] > second_posting_list[b_length-1]:\n",
    "                            break\n",
    "                        index_b = skip(second_posting_list, index_b)\n",
    "#             elif index_a = a_length - 1 and first_posting_list[index_a] < second_posting_list[index_b]:\n",
    "#                 break\n",
    "                \n",
    "           \n",
    "    except IndexError:\n",
    "        print('index ')\n",
    "    return result"
   ]
  },
  {
   "cell_type": "code",
   "execution_count": 60,
   "metadata": {
    "pycharm": {
     "is_executing": false,
     "name": "#%%\n"
    }
   },
   "outputs": [
    {
     "name": "stdout",
     "output_type": "stream",
     "text": [
      "len  15\n",
      "while loop 1 , 1\n",
      "a=b\n",
      " r  1 [1]\n",
      "while loop 2 , 2\n",
      "a=b\n",
      " r  2 [1, 2]\n",
      "while loop 3 , 3\n",
      "a=b\n",
      " r  3 [1, 2, 3]\n",
      "while loop 4 , 4\n",
      "a=b\n",
      " r  4 [1, 2, 3, 4]\n",
      "while loop 8 , 5\n",
      "a>b 8 5\n",
      "a>b 71\n",
      "b normal increment pointer  5 8 8\n",
      "while loop 8 , 8\n",
      "a=b\n",
      " r  8 [1, 2, 3, 4, 8]\n",
      "while loop 16 , 41\n",
      "a 5\n",
      "a<b  16 41\n",
      "A normal increment pointer  6 19 41\n",
      "while loop 19 , 41\n",
      "a 6\n",
      "a<b  19 41\n",
      "A normal increment pointer  7 23 41\n",
      "while loop 23 , 41\n",
      "a 7\n",
      "a<b  23 41\n",
      "A normal increment pointer  8 28 41\n",
      "while loop 28 , 41\n",
      "a 8\n",
      "a<b  28 41\n",
      "A normal increment pointer  9 43 41\n",
      "while loop 43 , 41\n",
      "a>b 43 41\n",
      "a>b 99\n",
      "b normal increment pointer  7 43 51\n",
      "while loop 43 , 51\n",
      "a 9\n",
      "a<b  43 51\n",
      "A normal increment pointer  10 88 51\n",
      "while loop 88 , 51\n",
      "a>b 88 51\n",
      "a>b 100\n",
      "b normal increment pointer  8 88 60\n",
      "while loop 88 , 60\n",
      "a>b 88 60\n",
      "a>b 101\n",
      "b normal increment pointer  9 88 71\n",
      "while loop 88 , 71\n",
      "a>b 88 71\n",
      "a>b 102\n",
      "b normal increment pointer  10 88 88\n",
      "while loop 88 , 88\n",
      "a=b\n",
      " r  88 [1, 2, 3, 4, 8, 88]\n",
      "while loop 99 , 99\n",
      "a=b\n",
      " r  99 [1, 2, 3, 4, 8, 88, 99]\n",
      "while loop 120 , 100\n",
      "a>b 120 100\n",
      "b skip pointer  17 120 105\n",
      "a>b 165\n",
      "b normal increment pointer  18 120 135\n",
      "while loop 120 , 135\n",
      "a 12\n",
      "a<b  120 135\n",
      "A normal increment pointer  13 135 135\n",
      "while loop 135 , 135\n",
      "a=b\n",
      " r  135 [1, 2, 3, 4, 8, 88, 99, 135]\n",
      "while loop 165 , 140\n",
      "a>b 165 140\n",
      "a>b 170\n",
      "b normal increment pointer  20 165 155\n",
      "while loop 165 , 155\n",
      "a>b 165 155\n",
      "a>b 160\n",
      "while loop 165 , 160\n",
      "a>b 165 160\n",
      "a>b 165\n",
      "b normal increment pointer  22 165 165\n",
      "while loop 165 , 165\n",
      "a=b\n",
      " r  165 [1, 2, 3, 4, 8, 88, 99, 135, 165]\n",
      "[1, 2, 3, 4, 8, 88, 99, 135, 165]\n"
     ]
    }
   ],
   "source": [
    "first_posting_list = [1,2,3,4,8,16,19,23,28,43,88,99,120,135, 165]\n",
    "second_posting_list = [1, 2, 3,4, 5, 8, 41, 51, 60, 71, 88,99,100,101,102,103,104,105,135,140,155,160, 165, 169, 170]\n",
    "result = intersection_with_skips(first_posting_list, second_posting_list)\n",
    "print(result)"
   ]
  },
  {
   "cell_type": "code",
   "execution_count": null,
   "metadata": {
    "pycharm": {
     "name": "#%%\n"
    }
   },
   "outputs": [],
   "source": [
    "\n"
   ]
  }
 ],
 "metadata": {
  "kernelspec": {
   "display_name": "Python 3",
   "language": "python",
   "name": "python3"
  },
  "language_info": {
   "codemirror_mode": {
    "name": "ipython",
    "version": 3
   },
   "file_extension": ".py",
   "mimetype": "text/x-python",
   "name": "python",
   "nbconvert_exporter": "python",
   "pygments_lexer": "ipython3",
   "version": "3.7.4"
  },
  "pycharm": {
   "stem_cell": {
    "cell_type": "raw",
    "metadata": {
     "collapsed": false
    },
    "source": []
   }
  }
 },
 "nbformat": 4,
 "nbformat_minor": 2
}
