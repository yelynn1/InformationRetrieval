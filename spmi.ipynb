{
 "cells": [
  {
   "cell_type": "code",
   "execution_count": 60,
   "metadata": {
    "pycharm": {
     "is_executing": false
    }
   },
   "outputs": [],
   "source": [
    "import sys\n",
    "import ast\n",
    "import re\n",
    "import collections\n",
    "\n",
    "from collections import OrderedDict\n",
    "from nltk.tokenize import WhitespaceTokenizer\n",
    "\n",
    "def spimi_invert(documents, block_size_limit):\n",
    "    \"\"\" Applies the Single-pass in-memory indexing algorithm \"\"\"\n",
    "    block_number = 0\n",
    "    documents_count = len(documents)\n",
    "    dictionary = {} # (term - postings list)\n",
    "    tokenizer = WhitespaceTokenizer()\n",
    "    for index, docID in enumerate(documents):\n",
    "        for term in tokenizer.tokenize(documents[index]):\n",
    "            # If term occurs for the first time\n",
    "            if term not in dictionary:\n",
    "                # Add term to dictionary, create new postings list, and add docID\n",
    "                dictionary[term] = [index]\n",
    "            # else:\n",
    "            #     # If term has a subsequent occurence\n",
    "            #     if docID not in dictionary[term]:\n",
    "            #         # Add a posting (docID) to the existing posting list of the term\n",
    "            #         dictionary[term].append(docID)\n",
    "            else:\n",
    "                dictionary[term].append(index)\n",
    "#         print(sys.getsizeof(dictionary))\n",
    "        if sys.getsizeof(dictionary) > block_size_limit:\n",
    "            temp_dict = sort_terms(dictionary)\n",
    "            write_block_to_disk(temp_dict, block_number)\n",
    "            temp_dict = {}\n",
    "            block_number += 1\n",
    "            dictionary = {}\n",
    "    temp_dict = sort_terms(dictionary)\n",
    "    write_block_to_disk(temp_dict, block_number)\n",
    "    print(\"SPIMI invert complete!\")\n",
    "\n"
   ]
  },
  {
   "cell_type": "code",
   "execution_count": 23,
   "metadata": {
    "pycharm": {
     "is_executing": false,
     "name": "#%%\n"
    }
   },
   "outputs": [],
   "source": [
    "def sort_terms(term_postings_list):\n",
    "    \"\"\" Sorts dictionary terms in alphabetical order \"\"\"\n",
    "    print(\" -- Sorting terms...\")\n",
    "    sorted_dictionary = OrderedDict() # keep track of insertion order\n",
    "    sorted_terms = sorted(term_postings_list)\n",
    "    for term in sorted_terms:\n",
    "        result = [docIds for docIds in term_postings_list[term]]\n",
    "        result_tftd = calculate_tftd(result)\n",
    "        sorted_dictionary[term] = result_tftd\n",
    "    return sorted_dictionary\n",
    "\n"
   ]
  },
  {
   "cell_type": "code",
   "execution_count": 24,
   "metadata": {
    "pycharm": {
     "is_executing": false,
     "name": "#%%\n"
    }
   },
   "outputs": [],
   "source": [
    "def calculate_tftd(pl_with_duplicates):\n",
    "    \"\"\" Add term frequency of term in each document \"\"\"\n",
    "    # print(pl_with_duplicates)\n",
    "    counter = collections.Counter(pl_with_duplicates)\n",
    "    pl_tftd = [[docId, counter[docId]] for docId in counter.keys()]\n",
    "    return pl_tftd\n",
    "\n"
   ]
  },
  {
   "cell_type": "code",
   "execution_count": 49,
   "metadata": {
    "pycharm": {
     "is_executing": false,
     "name": "#%%\n"
    }
   },
   "outputs": [],
   "source": [
    "def write_block_to_disk(term_postings_list, block_number):\n",
    "    \"\"\" Writes index of the block (dictionary + postings list) to disk \"\"\"\n",
    "    # Define block\n",
    "    base_path = 'HillaryEmails'\n",
    "    block_name = 'block-' + str(block_number) + '.txt'\n",
    "    block = open(base_path + block_name, 'a+')\n",
    "    print(\" -- Writing term-positing list block: \" + block_name + \"...\")\n",
    "    # Write term : posting lists to block\n",
    "    for index, term in enumerate(term_postings_list):\n",
    "        # Term - Posting List Format\n",
    "        # term:[docID1, docID2, docID3]\n",
    "        # e.g. cat:[4,9,21,42]\n",
    "        block.write(str(term) + \":\" + str((term_postings_list[term])) + \"\\n\")\n",
    "    print(block_name, \"created\")\n",
    "    block.close()"
   ]
  },
  {
   "cell_type": "code",
   "execution_count": 63,
   "metadata": {
    "pycharm": {
     "is_executing": false,
     "name": "#%%\n"
    }
   },
   "outputs": [
    {
     "name": "stdout",
     "output_type": "stream",
     "text": [
      " -- Sorting terms...\n",
      " -- Writing term-positing list block: block-0.txt...\n",
      "block-0.txt created\n",
      "SPIMI invert complete!\n"
     ]
    }
   ],
   "source": [
    "import os\n",
    "def listFile(d):    \n",
    "    path = [os.path.abspath(os.path.join(d,i)) for i in os.listdir(d)]\n",
    "    return path\n",
    "        \n",
    "def readFile(d):\n",
    "    file = open(d,\"r\",encoding='utf-8')\n",
    "    content = file.read()\n",
    "    return content\n",
    "\n",
    "files = listFile(\"HillaryEmails\") #list dir\n",
    "tokens = list()\n",
    "file_content = []\n",
    "for docs in files:\n",
    "    file_content += [readFile(docs)] #read content\n",
    "spimi_invert(file_content, 1000000000)\n"
   ]
  },
  {
   "cell_type": "code",
   "execution_count": 37,
   "metadata": {
    "pycharm": {
     "is_executing": false,
     "name": "#%%\n"
    },
    "scrolled": true
   },
   "outputs": [
    {
     "name": "stdout",
     "output_type": "stream",
     "text": [
      " -- Sorting terms...\n",
      " -- Writing term-positing list block: block-0.txt...\n",
      "SPIMI invert complete!\n"
     ]
    }
   ],
   "source": [
    "doc = ['obama', 'canton']\n",
    "spimi_invert(doc, 1000)\n"
   ]
  },
  {
   "cell_type": "code",
   "execution_count": null,
   "metadata": {},
   "outputs": [],
   "source": []
  }
 ],
 "metadata": {
  "kernelspec": {
   "display_name": "Python 3",
   "language": "python",
   "name": "python3"
  },
  "language_info": {
   "codemirror_mode": {
    "name": "ipython",
    "version": 3
   },
   "file_extension": ".py",
   "mimetype": "text/x-python",
   "name": "python",
   "nbconvert_exporter": "python",
   "pygments_lexer": "ipython3",
   "version": "3.7.4"
  },
  "pycharm": {
   "stem_cell": {
    "cell_type": "raw",
    "metadata": {
     "collapsed": false
    },
    "source": []
   }
  }
 },
 "nbformat": 4,
 "nbformat_minor": 1
}
