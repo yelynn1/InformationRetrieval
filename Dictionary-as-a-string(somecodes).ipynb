{
 "cells": [
  {
   "cell_type": "code",
   "execution_count": 4,
   "metadata": {},
   "outputs": [],
   "source": [
    "import os\n",
    "import nltk\n",
    "import pandas as pd\n",
    "import time\n",
    "import string\n",
    "import re\n",
    "import tkinter\n",
    "import sys\n",
    "from tqdm import tqdm\n",
    "from nltk.tokenize import WhitespaceTokenizer\n",
    "from nltk.stem import PorterStemmer\n",
    "from nltk.stem import WordNetLemmatizer\n",
    "from nltk.corpus import wordnet as wn\n",
    "from IPython.display import clear_output"
   ]
  },
  {
   "cell_type": "code",
   "execution_count": 1,
   "metadata": {},
   "outputs": [],
   "source": [
    "def readFile(d):\n",
    "    file = open(d,\"r\",encoding='utf-8')\n",
    "    content = file.read()\n",
    "    return content"
   ]
  },
  {
   "cell_type": "code",
   "execution_count": 3,
   "metadata": {},
   "outputs": [
    {
     "name": "stdout",
     "output_type": "stream",
     "text": [
      "<class 'str'>\n",
      "UNCLASSIFIED\n",
      "U.S. Department of State\n",
      "Case No. F-2015-04841\n",
      "Doc No. C05739545\n",
      "Date: 05/13/2015\n",
      "STATE DEPT. - PRODUCED TO HOUSE SELECT BENGHAZI COMM.\n",
      "SUBJECT TO AGREEMENT ON SENSITIVE INFORMATION & REDACTIONS. NO FOIA WAIVER.\n",
      "RELEASE IN FULL\n",
      "From: Sullivan, Jacob J <Sullivan11@state.gov>\n",
      "Sent: Wednesday, September 12, 2012 10:16 AM\n",
      "To:\n",
      "Subject: FW: Wow\n",
      "From: Brose, Christian (Armed Services) (mailto:Christian_Brose@armed-servic,essenate.govi\n",
      "Sent: Wednesday, September 12, 2012 10:09 AM\n",
      "To: Sullivan, Jacob J\n",
      "Subject: Wow\n",
      "What a wonderful, strong and moving statement by your boss. please tell her how much Sen. McCain appreciated it. Me\n",
      "too\n",
      "UNCLASSIFIED\n",
      "U.S. Department of State\n",
      "Case No. F-2015-04841\n",
      "Doc No. C05739545\n",
      "Date: 05/13/2015\n",
      "STATE DEPT. - PRODUCED TO HOUSE SELECT BENGHAZI COMM.\n",
      "SUBJECT TO AGREEMENT ON SENSITIVE INFORMATION & REDACTIONS. NO FOIA WAIVER. STATE-5CB0045247\n",
      "\f",
      "\n"
     ]
    }
   ],
   "source": [
    "content = readFile('C:/Users/Phu Wai Paing/Desktop/Course Books/Information Retrieval/HillaryEmails/a/1.txt')\n",
    "print(type(content))\n",
    "print(content)"
   ]
  },
  {
   "cell_type": "code",
   "execution_count": 12,
   "metadata": {},
   "outputs": [
    {
     "name": "stdout",
     "output_type": "stream",
     "text": [
      "[['UNCLASSIFIED', 1], ['U.S.', 1], ['Department', 1], ['of', 1], ['State', 1], ['Case', 1], ['No.', 1], ['F-2015-04841', 1], ['Doc', 1], ['No.', 1], ['C05739545', 1], ['Date:', 1], ['05/13/2015', 1], ['STATE', 1], ['DEPT.', 1], ['-', 1], ['PRODUCED', 1], ['TO', 1], ['HOUSE', 1], ['SELECT', 1], ['BENGHAZI', 1], ['COMM.', 1], ['SUBJECT', 1], ['TO', 1], ['AGREEMENT', 1], ['ON', 1], ['SENSITIVE', 1], ['INFORMATION', 1], ['&', 1], ['REDACTIONS.', 1], ['NO', 1], ['FOIA', 1], ['WAIVER.', 1], ['RELEASE', 1], ['IN', 1], ['FULL', 1], ['From:', 1], ['Sullivan,', 1], ['Jacob', 1], ['J', 1], ['<Sullivan11@state.gov>', 1], ['Sent:', 1], ['Wednesday,', 1], ['September', 1], ['12,', 1], ['2012', 1], ['10:16', 1], ['AM', 1], ['To:', 1], ['Subject:', 1], ['FW:', 1], ['Wow', 1], ['From:', 1], ['Brose,', 1], ['Christian', 1], ['(Armed', 1], ['Services)', 1], ['(mailto:Christian_Brose@armed-servic,essenate.govi', 1], ['Sent:', 1], ['Wednesday,', 1], ['September', 1], ['12,', 1], ['2012', 1], ['10:09', 1], ['AM', 1], ['To:', 1], ['Sullivan,', 1], ['Jacob', 1], ['J', 1], ['Subject:', 1], ['Wow', 1], ['What', 1], ['a', 1], ['wonderful,', 1], ['strong', 1], ['and', 1], ['moving', 1], ['statement', 1], ['by', 1], ['your', 1], ['boss.', 1], ['please', 1], ['tell', 1], ['her', 1], ['how', 1], ['much', 1], ['Sen.', 1], ['McCain', 1], ['appreciated', 1], ['it.', 1], ['Me', 1], ['too', 1], ['UNCLASSIFIED', 1], ['U.S.', 1], ['Department', 1], ['of', 1], ['State', 1], ['Case', 1], ['No.', 1], ['F-2015-04841', 1], ['Doc', 1], ['No.', 1], ['C05739545', 1], ['Date:', 1], ['05/13/2015', 1], ['STATE', 1], ['DEPT.', 1], ['-', 1], ['PRODUCED', 1], ['TO', 1], ['HOUSE', 1], ['SELECT', 1], ['BENGHAZI', 1], ['COMM.', 1], ['SUBJECT', 1], ['TO', 1], ['AGREEMENT', 1], ['ON', 1], ['SENSITIVE', 1], ['INFORMATION', 1], ['&', 1], ['REDACTIONS.', 1], ['NO', 1], ['FOIA', 1], ['WAIVER.', 1], ['STATE-5CB0045247', 1]]\n"
     ]
    }
   ],
   "source": [
    "def createToken(content, dnum):\n",
    "    tokens = list()\n",
    "    tokenizer = WhitespaceTokenizer()\n",
    "    for t in tokenizer.tokenize(content):\n",
    "        tokens = tokens + [[t,dnum]]\n",
    "    return tokens\n",
    "tokens = createToken(content, 1)\n",
    "print(tokens)"
   ]
  },
  {
   "cell_type": "code",
   "execution_count": 14,
   "metadata": {},
   "outputs": [
    {
     "name": "stdout",
     "output_type": "stream",
     "text": [
      "[['&', 1], ['&', 1], ['(Armed', 1], ['(mailto:Christian_Brose@armed-servic,essenate.govi', 1], ['-', 1], ['-', 1], ['05/13/2015', 1], ['05/13/2015', 1], ['10:09', 1], ['10:16', 1], ['12,', 1], ['12,', 1], ['2012', 1], ['2012', 1], ['<Sullivan11@state.gov>', 1], ['AGREEMENT', 1], ['AGREEMENT', 1], ['AM', 1], ['AM', 1], ['BENGHAZI', 1], ['BENGHAZI', 1], ['Brose,', 1], ['C05739545', 1], ['C05739545', 1], ['COMM.', 1], ['COMM.', 1], ['Case', 1], ['Case', 1], ['Christian', 1], ['DEPT.', 1], ['DEPT.', 1], ['Date:', 1], ['Date:', 1], ['Department', 1], ['Department', 1], ['Doc', 1], ['Doc', 1], ['F-2015-04841', 1], ['F-2015-04841', 1], ['FOIA', 1], ['FOIA', 1], ['FULL', 1], ['FW:', 1], ['From:', 1], ['From:', 1], ['HOUSE', 1], ['HOUSE', 1], ['IN', 1], ['INFORMATION', 1], ['INFORMATION', 1], ['J', 1], ['J', 1], ['Jacob', 1], ['Jacob', 1], ['McCain', 1], ['Me', 1], ['NO', 1], ['NO', 1], ['No.', 1], ['No.', 1], ['No.', 1], ['No.', 1], ['ON', 1], ['ON', 1], ['PRODUCED', 1], ['PRODUCED', 1], ['REDACTIONS.', 1], ['REDACTIONS.', 1], ['RELEASE', 1], ['SELECT', 1], ['SELECT', 1], ['SENSITIVE', 1], ['SENSITIVE', 1], ['STATE', 1], ['STATE', 1], ['STATE-5CB0045247', 1], ['SUBJECT', 1], ['SUBJECT', 1], ['Sen.', 1], ['Sent:', 1], ['Sent:', 1], ['September', 1], ['September', 1], ['Services)', 1], ['State', 1], ['State', 1], ['Subject:', 1], ['Subject:', 1], ['Sullivan,', 1], ['Sullivan,', 1], ['TO', 1], ['TO', 1], ['TO', 1], ['TO', 1], ['To:', 1], ['To:', 1], ['U.S.', 1], ['U.S.', 1], ['UNCLASSIFIED', 1], ['UNCLASSIFIED', 1], ['WAIVER.', 1], ['WAIVER.', 1], ['Wednesday,', 1], ['Wednesday,', 1], ['What', 1], ['Wow', 1], ['Wow', 1], ['a', 1], ['and', 1], ['appreciated', 1], ['boss.', 1], ['by', 1], ['her', 1], ['how', 1], ['it.', 1], ['moving', 1], ['much', 1], ['of', 1], ['of', 1], ['please', 1], ['statement', 1], ['strong', 1], ['tell', 1], ['too', 1], ['wonderful,', 1], ['your', 1]]\n"
     ]
    }
   ],
   "source": [
    "def sortToken(token_list):\n",
    "    token_list.sort(key=lambda e: (e[0],e[1]))\n",
    "    return token_list\n",
    "\n",
    "t = sortToken(tokens)\n",
    "print (t)"
   ]
  },
  {
   "cell_type": "code",
   "execution_count": 17,
   "metadata": {},
   "outputs": [
    {
     "name": "stdout",
     "output_type": "stream",
     "text": [
      "{'&': [1, [1]], '(Armed': [1, [1]], '(mailto:Christian_Brose@armed-servic,essenate.govi': [1, [1]], '-': [1, [1]], '05/13/2015': [1, [1]], '10:09': [1, [1]], '10:16': [1, [1]], '12,': [1, [1]], '2012': [1, [1]], '<Sullivan11@state.gov>': [1, [1]], 'AGREEMENT': [1, [1]], 'AM': [1, [1]], 'BENGHAZI': [1, [1]], 'Brose,': [1, [1]], 'C05739545': [1, [1]], 'COMM.': [1, [1]], 'Case': [1, [1]], 'Christian': [1, [1]], 'DEPT.': [1, [1]], 'Date:': [1, [1]], 'Department': [1, [1]], 'Doc': [1, [1]], 'F-2015-04841': [1, [1]], 'FOIA': [1, [1]], 'FULL': [1, [1]], 'FW:': [1, [1]], 'From:': [1, [1]], 'HOUSE': [1, [1]], 'IN': [1, [1]], 'INFORMATION': [1, [1]], 'J': [1, [1]], 'Jacob': [1, [1]], 'McCain': [1, [1]], 'Me': [1, [1]], 'NO': [1, [1]], 'No.': [1, [1]], 'ON': [1, [1]], 'PRODUCED': [1, [1]], 'REDACTIONS.': [1, [1]], 'RELEASE': [1, [1]], 'SELECT': [1, [1]], 'SENSITIVE': [1, [1]], 'STATE': [1, [1]], 'STATE-5CB0045247': [1, [1]], 'SUBJECT': [1, [1]], 'Sen.': [1, [1]], 'Sent:': [1, [1]], 'September': [1, [1]], 'Services)': [1, [1]], 'State': [1, [1]], 'Subject:': [1, [1]], 'Sullivan,': [1, [1]], 'TO': [1, [1]], 'To:': [1, [1]], 'U.S.': [1, [1]], 'UNCLASSIFIED': [1, [1]], 'WAIVER.': [1, [1]], 'Wednesday,': [1, [1]], 'What': [1, [1]], 'Wow': [1, [1]], 'a': [1, [1]], 'and': [1, [1]], 'appreciated': [1, [1]], 'boss.': [1, [1]], 'by': [1, [1]], 'her': [1, [1]], 'how': [1, [1]], 'it.': [1, [1]], 'moving': [1, [1]], 'much': [1, [1]], 'of': [1, [1]], 'please': [1, [1]], 'statement': [1, [1]], 'strong': [1, [1]], 'tell': [1, [1]], 'too': [1, [1]], 'wonderful,': [1, [1]], 'your': [1, [1]]}\n"
     ]
    }
   ],
   "source": [
    "def transformPosting(sorted_list):\n",
    "    postDictionary = {}\n",
    "    for term,docId in sorted_list: #add terms into posting\n",
    "        postDictionary.setdefault(term,[]).append(docId)\n",
    "    for key in postDictionary:\n",
    "        post = list(dict.fromkeys(postDictionary[key]))\n",
    "        post.sort(key=int)\n",
    "        postDictionary[key] = [len(post),post]\n",
    "    return postDictionary\n",
    "term = transformPosting(t)\n",
    "print(term)"
   ]
  },
  {
   "cell_type": "code",
   "execution_count": 19,
   "metadata": {},
   "outputs": [
    {
     "data": {
      "text/plain": [
       "'&(Armed(mailto:Christian_Brose@armed-servic,essenate.govi-05/13/201510:0910:1612,2012<Sullivan11@state.gov>AGREEMENTAMBENGHAZIBrose,C05739545COMM.CaseChristianDEPT.Date:DepartmentDocF-2015-04841FOIAFULLFW:From:HOUSEININFORMATIONJJacobMcCainMeNONo.ONPRODUCEDREDACTIONS.RELEASESELECTSENSITIVESTATESTATE-5CB0045247SUBJECTSen.Sent:SeptemberServices)StateSubject:Sullivan,TOTo:U.S.UNCLASSIFIEDWAIVER.Wednesday,WhatWowaandappreciatedboss.byherhowit.movingmuchofpleasestatementstrongtelltoowonderful,your'"
      ]
     },
     "execution_count": 19,
     "metadata": {},
     "output_type": "execute_result"
    }
   ],
   "source": [
    "list = []\n",
    "for te in term.keys():\n",
    "    list.append(te)\n",
    "''.join(list)"
   ]
  },
  {
   "cell_type": "code",
   "execution_count": 8,
   "metadata": {},
   "outputs": [
    {
     "name": "stdout",
     "output_type": "stream",
     "text": [
      "UNCLASSIFIEDU.S.DepartmentofStateCaseNo.F-2015-04841DocNo.C05739545Date:05/13/2015STATEDEPT.-PRODUCEDTOHOUSESELECTBENGHAZICOMM.SUBJECTTOAGREEMENTONSENSITIVEINFORMATION&REDACTIONS.NOFOIAWAIVER.RELEASEINFULLFrom:Sullivan,JacobJ<Sullivan11@state.gov>Sent:Wednesday,September12,201210:16AMTo:Subject:FW:WowFrom:Brose,Christian(ArmedServices)(mailto:Christian_Brose@armed-servic,essenate.goviSent:Wednesday,September12,201210:09AMTo:Sullivan,JacobJSubject:WowWhatawonderful,strongandmovingstatementbyyourboss.pleasetellherhowmuchSen.McCainappreciatedit.MetooUNCLASSIFIEDU.S.DepartmentofStateCaseNo.F-2015-04841DocNo.C05739545Date:05/13/2015STATEDEPT.-PRODUCEDTOHOUSESELECTBENGHAZICOMM.SUBJECTTOAGREEMENTONSENSITIVEINFORMATION&REDACTIONS.NOFOIAWAIVER.STATE-5CB0045247\f",
      "\n"
     ]
    }
   ],
   "source": [
    "def createTokenOptimized(content):\n",
    "    tokens = list()\n",
    "    tokenizer = WhitespaceTokenizer()\n",
    "    for token in tokenizer.tokenize(content):\n",
    "        tokens.append(token)\n",
    "    return tokens\n",
    "createTokenOptimized(content)\n",
    "new_data =content.replace(' ', '')\n",
    "new_data1= new_data.replace('\\n','')\n",
    "print(new_data1)"
   ]
  },
  {
   "cell_type": "code",
   "execution_count": null,
   "metadata": {},
   "outputs": [],
   "source": []
  }
 ],
 "metadata": {
  "kernelspec": {
   "display_name": "Python 3",
   "language": "python",
   "name": "python3"
  },
  "language_info": {
   "codemirror_mode": {
    "name": "ipython",
    "version": 3
   },
   "file_extension": ".py",
   "mimetype": "text/x-python",
   "name": "python",
   "nbconvert_exporter": "python",
   "pygments_lexer": "ipython3",
   "version": "3.7.4"
  }
 },
 "nbformat": 4,
 "nbformat_minor": 2
}
