{
 "cells": [
  {
   "cell_type": "code",
   "execution_count": 1,
   "metadata": {},
   "outputs": [],
   "source": [
    "def compress():\n",
    "    longstr = \"\";\n",
    "    ptr = {}\n",
    "    posts = []\n",
    "    i = 0\n",
    "    num = 0\n",
    "    for key in posting:\n",
    "        longstr += key\n",
    "\n",
    "        post = posting[key][1]\n",
    "        temp_post = []\n",
    "        for docId in range(len(post)):\n",
    "            if(docId == 0):\n",
    "                temp_post.append(post[0])\n",
    "            else:\n",
    "                temp_post.append(post[docId]-post[docId-1])\n",
    "        posts.append(encode(temp_post))\n",
    "\n",
    "        ptr[num] = i\n",
    "        i+=len(key)\n",
    "        num +=1\n",
    "    return longstr,posts,ptr"
   ]
  },
  {
   "cell_type": "code",
   "execution_count": null,
   "metadata": {},
   "outputs": [],
   "source": [
    "def encodeNumber(n):\n",
    "    bytes_list = []\n",
    "    while True:\n",
    "        bytes_list.insert(0, n % 128)\n",
    "        if n < 128:\n",
    "            break\n",
    "        n = n // 128\n",
    "    bytes_list[-1] += 128\n",
    "    return bytearray(bytes_list)\n",
    "    \n",
    "def encode(numbers):\n",
    "    bytes_list = []\n",
    "    for num in numbers:\n",
    "        bytes_list.append(encodeNumber(num))\n",
    "    return b\"\".join(bytes_list)\n",
    "    \n",
    "def decode(bytes_list):\n",
    "    numbers = []\n",
    "    n = 0\n",
    "    for byte in bytes_list:\n",
    "        if byte < 128:\n",
    "            n = 128 * n + byte\n",
    "        else:\n",
    "            n = 128 * n + (byte - 128)\n",
    "            numbers.append(n)\n",
    "            n = 0\n",
    "    return numbers"
   ]
  },
  {
   "cell_type": "code",
   "execution_count": null,
   "metadata": {},
   "outputs": [],
   "source": [
    "def search(t):\n",
    "    start = 0\n",
    "    end = 0\n",
    "    for key in ptr:\n",
    "        start = ptr[key]\n",
    "        if(key < len(ptr)-1):\n",
    "            end = ptr[key+1]\n",
    "        else:\n",
    "            end = len(longstr)\n",
    "        word = longstr[start:end]\n",
    "        \n",
    "        if(t == word):\n",
    "            post = decode(posts[key])           \n",
    "            temp = [post[0]]\n",
    "            for i in range(1,len(post),1):\n",
    "                temp.append(post[i]+temp[i-1])\n",
    "            return temp\n",
    "            break"
   ]
  },
  {
   "cell_type": "code",
   "execution_count": null,
   "metadata": {},
   "outputs": [],
   "source": [
    "longstr,posts,ptr = compress()"
   ]
  },
  {
   "cell_type": "code",
   "execution_count": null,
   "metadata": {},
   "outputs": [],
   "source": [
    "orgsize = asizeof.asizeof(posting)\n",
    "strsize = asizeof.asizeof(longstr)\n",
    "postsize = asizeof.asizeof(posts)\n",
    "ptrsize = asizeof.asizeof(ptr)"
   ]
  },
  {
   "cell_type": "code",
   "execution_count": null,
   "metadata": {},
   "outputs": [],
   "source": [
    "print(\"original : \", orgsize/1000000)\n",
    "print(\"compressed: \", (strsize+postsize+ptrsize)/1000000)\n",
    "print(\"\\nLong Str: \" , strsize/1000000)\n",
    "print(\"Posting size: \", postsize/1000000)\n",
    "print(\"Pointer size: \", ptrsize/1000000)"
   ]
  },
  {
   "cell_type": "code",
   "execution_count": null,
   "metadata": {},
   "outputs": [],
   "source": []
  },
  {
   "cell_type": "code",
   "execution_count": null,
   "metadata": {},
   "outputs": [],
   "source": [
    "search(\"singapor\") == posting[\"singapor\"][1]"
   ]
  }
 ],
 "metadata": {
  "kernelspec": {
   "display_name": "Python 3",
   "language": "python",
   "name": "python3"
  },
  "language_info": {
   "codemirror_mode": {
    "name": "ipython",
    "version": 3
   },
   "file_extension": ".py",
   "mimetype": "text/x-python",
   "name": "python",
   "nbconvert_exporter": "python",
   "pygments_lexer": "ipython3",
   "version": "3.7.3"
  }
 },
 "nbformat": 4,
 "nbformat_minor": 2
}
