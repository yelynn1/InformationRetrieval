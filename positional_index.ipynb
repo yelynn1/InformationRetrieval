{
 "cells": [
  {
   "cell_type": "code",
   "execution_count": 5,
   "metadata": {
    "pycharm": {
     "is_executing": false
    }
   },
   "outputs": [],
   "source": [
    "def doc_id(plist):\n",
    "    return plist[0]"
   ]
  },
  {
   "cell_type": "code",
   "execution_count": 6,
   "metadata": {
    "pycharm": {
     "is_executing": false,
     "name": "#%%\n"
    }
   },
   "outputs": [],
   "source": [
    "def position(plist):\n",
    "    return plist[1]"
   ]
  },
  {
   "cell_type": "code",
   "execution_count": 7,
   "metadata": {
    "pycharm": {
     "is_executing": false,
     "name": "#%%\n"
    }
   },
   "outputs": [],
   "source": [
    "def pos_intersect(p1, p2, k):\n",
    "    answer = []  # answer <- ()\n",
    "    len1 = len(p1)\n",
    "    len2 = len(p2)\n",
    "    i = j = 0  # index\n",
    "    while i != len1 and j != len2:  # while (p1 != nil and p2 != nil)\n",
    "        if doc_id(p1[i]) == doc_id(p2[j]):\n",
    "            l = []  # l <- ()\n",
    "            pp1 = position(p1[i])  # pp1 <- positions(p1)\n",
    "            pp2 = position(p2[j])  # pp2 <- positions(p2)\n",
    "\n",
    "            p1_len = len(pp1)\n",
    "            p2_len = len(pp2)\n",
    "            ii = jj = 0\n",
    "            while ii != p1_len:  # while (pp1 != nil)\n",
    "                while jj != p2_len:  # while (pp2 != nil)\n",
    "                    if abs(pp1[ii] - pp2[jj]) <= k:  # if (|pos(pp1) - pos(pp2)| <= k)\n",
    "                        l.append(pp2[jj])  # l.add(pos(pp2))\n",
    "                    elif pp2[jj] > pp1[ii]:  # else if (pos(pp2) > pos(pp1))\n",
    "                        break\n",
    "                    jj += 1  # pp2 <- next(pp2)\n",
    "                # l.sort()\n",
    "                while l != [] and abs(l[0] - pp1[ii]) > k:  # while (l != () and |l(0) - pos(pp1)| > k)\n",
    "                    l.remove(l[0])  # delete(l[0])\n",
    "                for ps in l:  # for each ps in l\n",
    "                    answer.append([doc_id(p1[i]), pp1[ii], ps])  # add answer(docID(p1), pos(pp1), ps)\n",
    "                ii += 1  # pp1 <- next(pp1)\n",
    "            i += 1  # p1 <- next(p1)\n",
    "            j += 1  # p2 <- next(p2)\n",
    "        elif doc_id(p1[i]) < doc_id(p2[j]):  # else if (docID(p1) < docID(p2))\n",
    "            i += 1  # p1 <- next(p1)\n",
    "        else:\n",
    "            j += 1  # p2 <- next(p2)\n",
    "    return answer"
   ]
  },
  {
   "cell_type": "code",
   "execution_count": 8,
   "metadata": {
    "pycharm": {
     "is_executing": false,
     "name": "#%%\n"
    }
   },
   "outputs": [],
   "source": [
    "def run_test():\n",
    "    print(\"to be or not to be\")\n",
    "    to = [[1, [7, 18, 33, 72, 86, 231]], [2, [1, 17, 74, 222, 255]], [4, [8, 16, 190, 429, 433]], [5, [363, 367]],\n",
    "          [7, [13, 23, 191]]]\n",
    "    be = [[1, [17, 25]], [4, [17, 191, 291, 430, 434]], [5, [14, 19, 101]]]\n",
    "    print(\"to: \", to)\n",
    "    print(\"be: \", be)\n",
    "    print(\"merge result of \\\"to /1 be\\\": \", pos_intersect(to, be, 1))\n",
    "    print(\"merge result of \\\"be /3 to\\\": \", pos_intersect(be, to, 3))\n",
    "    print(\"merge result of \\\"to /5 be\\\": \", pos_intersect(to, be, 5))"
   ]
  },
  {
   "cell_type": "code",
   "execution_count": null,
   "metadata": {
    "pycharm": {
     "name": "#%%\n"
    }
   },
   "outputs": [],
   "source": [
    "\n"
   ]
  }
 ],
 "metadata": {
  "kernelspec": {
   "display_name": "Python 3",
   "language": "python",
   "name": "python3"
  },
  "language_info": {
   "codemirror_mode": {
    "name": "ipython",
    "version": 3
   },
   "file_extension": ".py",
   "mimetype": "text/x-python",
   "name": "python",
   "nbconvert_exporter": "python",
   "pygments_lexer": "ipython3",
   "version": "3.7.4"
  },
  "pycharm": {
   "stem_cell": {
    "cell_type": "raw",
    "metadata": {
     "collapsed": false
    },
    "source": []
   }
  }
 },
 "nbformat": 4,
 "nbformat_minor": 1
}
